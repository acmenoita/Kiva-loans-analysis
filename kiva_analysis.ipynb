{
 "cells": [
  {
   "cell_type": "code",
   "execution_count": null,
   "id": "cbffbf4b-1fbb-4d2d-aaf7-e7fdef0ad56c",
   "metadata": {},
   "outputs": [],
   "source": [
    "#Este trabalho tem como objetivo explorar o dataset de empréstimos da Kiva para identificar as tendências, analisar padrões e obter insights úteis.\n",
    "\n",
    "import pandas as pd\n",
    "import matplotlib.pyplot as plt\n",
    "import seaborn as sns\n",
    "\n",
    "df = pd.read_csv('dataset/kiva_loans.csv')\n",
    "df.head()\n",
    "df.info()\n",
    "df.describe()\n",
    "\n",
    "#Filtra os empréstimos feitos nas Filipinas e com montante acima de 500\n",
    "filtered_df = df[(df['country'] == 'Philippines') & (df['loan_amount'] > 500)]\n",
    "\n",
    "#Ordena por montante de empréstimo (decrescente) e duração (crescente)\n",
    "sorted_df = df.sort_values(by=['loan_amount', 'term_in_months'], ascending=[False, True])\n",
    "\n",
    "#Cria uma coluna para classificar os empréstimos como \"pequeno\", \"médio\" ou \"grande\"\n",
    "df['loan_category'] = df['loan_amount'].apply(lambda x: 'Pequeno' if x < 500 else ('Médio' if x <= 1000 else 'Grande'))\n",
    "\n",
    "#Gráfico de barras do total emprestado por país\n",
    "plt.figure(figsize=(12, 6))\n",
    "sns.barplot(x='country', y='loan_amount', data=grouped_df.head(10))\n",
    "plt.title('Top 10 países por total de empréstimos')\n",
    "plt.xticks(rotation=45)\n",
    "plt.show()\n"
   ]
  }
 ],
 "metadata": {
  "kernelspec": {
   "display_name": "Python 3 (ipykernel)",
   "language": "python",
   "name": "python3"
  },
  "language_info": {
   "codemirror_mode": {
    "name": "ipython",
    "version": 3
   },
   "file_extension": ".py",
   "mimetype": "text/x-python",
   "name": "python",
   "nbconvert_exporter": "python",
   "pygments_lexer": "ipython3",
   "version": "3.11.7"
  }
 },
 "nbformat": 4,
 "nbformat_minor": 5
}
